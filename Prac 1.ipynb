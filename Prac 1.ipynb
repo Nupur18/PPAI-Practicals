{
 "cells": [
  {
   "cell_type": "code",
   "execution_count": 1,
   "id": "4efd4233",
   "metadata": {},
   "outputs": [],
   "source": [
    "from sklearn import tree"
   ]
  },
  {
   "cell_type": "code",
   "execution_count": 2,
   "id": "886e1168",
   "metadata": {},
   "outputs": [],
   "source": [
    "clf = tree.DecisionTreeClassifier()"
   ]
  },
  {
   "cell_type": "code",
   "execution_count": 3,
   "id": "1735383b",
   "metadata": {},
   "outputs": [],
   "source": [
    "# height, hair length, voice pitch\n",
    "X = [[180, 15, 0], \n",
    "     [167, 42, 1], \n",
    "     [136, 35, 1], \n",
    "     [174, 15, 0], \n",
    "     [141, 28, 1]]"
   ]
  },
  {
   "cell_type": "code",
   "execution_count": 4,
   "id": "dbc6d806",
   "metadata": {},
   "outputs": [],
   "source": [
    "Y = ['Man','Woman','Woman','Man','Woman']"
   ]
  },
  {
   "cell_type": "code",
   "execution_count": 5,
   "id": "471ddb7f",
   "metadata": {},
   "outputs": [],
   "source": [
    "dtclf = clf.fit(X,Y)"
   ]
  },
  {
   "cell_type": "code",
   "execution_count": 6,
   "id": "6ac34d47",
   "metadata": {},
   "outputs": [],
   "source": [
    "prediction = dtclf.predict([[133,37,1]])"
   ]
  },
  {
   "cell_type": "code",
   "execution_count": 7,
   "id": "250f76bd",
   "metadata": {},
   "outputs": [
    {
     "name": "stdout",
     "output_type": "stream",
     "text": [
      "['Woman']\n"
     ]
    }
   ],
   "source": [
    "print(prediction)"
   ]
  },
  {
   "cell_type": "code",
   "execution_count": 8,
   "id": "2e013314",
   "metadata": {},
   "outputs": [],
   "source": [
    "from matplotlib import pyplot as plt"
   ]
  },
  {
   "cell_type": "code",
   "execution_count": 9,
   "id": "ebd1725e",
   "metadata": {
    "scrolled": true
   },
   "outputs": [
    {
     "data": {
      "text/plain": [
       "[Text(111.6, 163.07999999999998, 'Voice pitch <= 0.5\\ngini = 0.48\\nsamples = 5\\nvalue = [2, 3]\\nclass = Woman'),\n",
       " Text(55.8, 54.360000000000014, 'gini = 0.0\\nsamples = 2\\nvalue = [2, 0]\\nclass = Man'),\n",
       " Text(167.39999999999998, 54.360000000000014, 'gini = 0.0\\nsamples = 3\\nvalue = [0, 3]\\nclass = Woman')]"
      ]
     },
     "execution_count": 9,
     "metadata": {},
     "output_type": "execute_result"
    },
    {
     "data": {
      "image/png": "[encoded data removed]",
      "text/plain": [
       "<Figure size 288x288 with 1 Axes>"
      ]
     },
     "metadata": {},
     "output_type": "display_data"
    }
   ],
   "source": [
    "fig = plt.figure(figsize=(4,4), facecolor=\"white\")\n",
    "tree.plot_tree(dtclf, feature_names=[\"Height\", \"Hair length\", \"Voice pitch\"], \n",
    "                   class_names=[\"Man\",\"Woman\"],filled=True)"
   ]
  },
  {
   "cell_type": "code",
   "execution_count": null,
   "id": "7f5ca27d",
   "metadata": {},
   "outputs": [],
   "source": []
  }
 ],
 "metadata": {
  "kernelspec": {
   "display_name": "Python 3 (ipykernel)",
   "language": "python",
   "name": "python3"
  },
  "language_info": {
   "codemirror_mode": {
    "name": "ipython",
    "version": 3
   },
   "file_extension": ".py",
   "mimetype": "text/x-python",
   "name": "python",
   "nbconvert_exporter": "python",
   "pygments_lexer": "ipython3",
   "version": "3.8.9"
  }
 },
 "nbformat": 4,
 "nbformat_minor": 5
}
