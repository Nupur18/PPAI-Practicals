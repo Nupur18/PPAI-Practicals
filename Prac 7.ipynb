{
 "cells": [
  {
   "cell_type": "code",
   "execution_count": 1,
   "id": "3f41e6f3",
   "metadata": {},
   "outputs": [],
   "source": [
    "from chatterbot import ChatBot\n",
    "from chatterbot.trainers import ListTrainer"
   ]
  },
  {
   "cell_type": "code",
   "execution_count": 2,
   "id": "0571bdce",
   "metadata": {},
   "outputs": [],
   "source": [
    "import ssl\n",
    "\n",
    "try:\n",
    "    _create_unverified_https_context = ssl._create_unverified_context\n",
    "except AttributeError:\n",
    "    pass\n",
    "else:\n",
    "    ssl._create_default_https_context = _create_unverified_https_context"
   ]
  },
  {
   "cell_type": "code",
   "execution_count": 3,
   "id": "894a3f36",
   "metadata": {},
   "outputs": [
    {
     "name": "stderr",
     "output_type": "stream",
     "text": [
      "[nltk_data] Downloading package averaged_perceptron_tagger to\n",
      "[nltk_data]     /Users/nupur/nltk_data...\n",
      "[nltk_data]   Package averaged_perceptron_tagger is already up-to-\n",
      "[nltk_data]       date!\n",
      "[nltk_data] Downloading package punkt to /Users/nupur/nltk_data...\n",
      "[nltk_data]   Package punkt is already up-to-date!\n",
      "[nltk_data] Downloading package stopwords to /Users/nupur/nltk_data...\n",
      "[nltk_data]   Package stopwords is already up-to-date!\n"
     ]
    }
   ],
   "source": [
    "bot = ChatBot('Bot')"
   ]
  },
  {
   "cell_type": "code",
   "execution_count": 4,
   "id": "b263746e",
   "metadata": {},
   "outputs": [
    {
     "name": "stdout",
     "output_type": "stream",
     "text": [
      "List Trainer: [####################] 100%\n"
     ]
    }
   ],
   "source": [
    "trainer = ListTrainer(bot)\n",
    "\n",
    "trainer.train([\n",
    "'Hi',\n",
    "'Hello',\n",
    "'Please take my order.',\n",
    "'What would you like to have?',\n",
    "'I would like to have pasta, pizza and french fries.',\n",
    "'Anything to drink?',\n",
    "'One large cold coffee.',\n",
    "'Is that all?',\n",
    "'Yes, thanks!',\n",
    "'No Problem! Your order will be ready in 15 min.'\n",
    "])"
   ]
  },
  {
   "cell_type": "code",
   "execution_count": 5,
   "id": "01e28d7f",
   "metadata": {},
   "outputs": [
    {
     "name": "stdout",
     "output_type": "stream",
     "text": [
      "You: Hi\n",
      "Bot: Hello\n",
      "You: How are you?\n",
      "Bot: I am doing well.\n",
      "You: Please take my order.\n",
      "Bot: What would you like to have?\n",
      "You: I would like to have pasta, pizza and french fries.\n",
      "Bot: Anything to drink?\n",
      "You: One large cold coffee.\n",
      "Bot: Is that all?\n",
      "You: Yes, thanks!\n",
      "Bot: No Problem! Have a Good Day!\n",
      "You: Ok\n",
      "Bot: Bye!\n"
     ]
    }
   ],
   "source": [
    "while True:\n",
    "    request=input('You: ')\n",
    "    if request == 'Ok':\n",
    "        print('Bot: Bye!')\n",
    "        break\n",
    "    else:\n",
    "        response=bot.get_response(request)\n",
    "        print('Bot:', response)"
   ]
  },
  {
   "cell_type": "code",
   "execution_count": null,
   "id": "3043c3e5",
   "metadata": {},
   "outputs": [],
   "source": []
  }
 ],
 "metadata": {
  "kernelspec": {
   "display_name": "Python 3 (ipykernel)",
   "language": "python",
   "name": "python3"
  },
  "language_info": {
   "codemirror_mode": {
    "name": "ipython",
    "version": 3
   },
   "file_extension": ".py",
   "mimetype": "text/x-python",
   "name": "python",
   "nbconvert_exporter": "python",
   "pygments_lexer": "ipython3",
   "version": "3.8.9"
  }
 },
 "nbformat": 4,
 "nbformat_minor": 5
}
