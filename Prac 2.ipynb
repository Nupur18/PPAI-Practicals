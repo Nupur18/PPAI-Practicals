{
 "cells": [
  {
   "cell_type": "code",
   "execution_count": 1,
   "id": "05495af9",
   "metadata": {},
   "outputs": [],
   "source": [
    "from sklearn.svm import SVC\n",
    "import matplotlib.pyplot as plt"
   ]
  },
  {
   "cell_type": "code",
   "execution_count": 2,
   "id": "9743cb1f",
   "metadata": {},
   "outputs": [],
   "source": [
    "clf = SVC()"
   ]
  },
  {
   "cell_type": "code",
   "execution_count": 3,
   "id": "fffb2603",
   "metadata": {},
   "outputs": [],
   "source": [
    "# height, hair length, voice pitch\n",
    "X = [[180, 15, 0], \n",
    "     [167, 42, 1], \n",
    "     [136, 35, 1], \n",
    "     [174, 15, 0], \n",
    "     [141, 28, 1]]"
   ]
  },
  {
   "cell_type": "code",
   "execution_count": 4,
   "id": "dad1653b",
   "metadata": {},
   "outputs": [],
   "source": [
    "Y = ['Man','Woman','Woman','Man','Woman']"
   ]
  },
  {
   "cell_type": "code",
   "execution_count": 5,
   "id": "1b6fab0f",
   "metadata": {},
   "outputs": [],
   "source": [
    "svcClassifier = clf.fit(X,Y)"
   ]
  },
  {
   "cell_type": "code",
   "execution_count": 6,
   "id": "d9951404",
   "metadata": {},
   "outputs": [],
   "source": [
    "prediction = svcClassifier.predict([[133,37,1]])"
   ]
  },
  {
   "cell_type": "code",
   "execution_count": 7,
   "id": "41361aa8",
   "metadata": {},
   "outputs": [
    {
     "name": "stdout",
     "output_type": "stream",
     "text": [
      "['Woman']\n"
     ]
    }
   ],
   "source": [
    "print(prediction)"
   ]
  },
  {
   "cell_type": "markdown",
   "id": "edf38970",
   "metadata": {},
   "source": [
    "## MNIST Dataset"
   ]
  },
  {
   "cell_type": "code",
   "execution_count": 8,
   "id": "e44dd96a",
   "metadata": {},
   "outputs": [],
   "source": [
    "from sklearn.datasets import load_digits\n",
    "from sklearn.model_selection import train_test_split\n",
    "from sklearn.preprocessing import StandardScaler\n",
    "from sklearn.pipeline import Pipeline\n",
    "import seaborn as sns\n",
    "from sklearn.metrics import classification_report,confusion_matrix"
   ]
  },
  {
   "cell_type": "code",
   "execution_count": 9,
   "id": "3f2d20d5",
   "metadata": {},
   "outputs": [],
   "source": [
    "x, y = load_digits(return_X_y=True)"
   ]
  },
  {
   "cell_type": "code",
   "execution_count": 10,
   "id": "c97636ab",
   "metadata": {},
   "outputs": [],
   "source": [
    "x_train, x_test, y_train, y_test = train_test_split(x, y, test_size=0.2, train_size=0.8)"
   ]
  },
  {
   "cell_type": "code",
   "execution_count": 11,
   "id": "fd131aa1",
   "metadata": {},
   "outputs": [],
   "source": [
    "steps = [('scaler', StandardScaler()), ('SVM', SVC())]"
   ]
  },
  {
   "cell_type": "code",
   "execution_count": 12,
   "id": "07b5dabf",
   "metadata": {},
   "outputs": [],
   "source": [
    "pipeline = Pipeline(steps)"
   ]
  },
  {
   "cell_type": "code",
   "execution_count": 13,
   "id": "667120e6",
   "metadata": {},
   "outputs": [],
   "source": [
    "svcClassifier = pipeline.fit(x_train, y_train)"
   ]
  },
  {
   "cell_type": "code",
   "execution_count": 14,
   "id": "78d49e21",
   "metadata": {},
   "outputs": [
    {
     "name": "stdout",
     "output_type": "stream",
     "text": [
      "              precision    recall  f1-score   support\n",
      "\n",
      "           0       1.00      1.00      1.00        31\n",
      "           1       1.00      1.00      1.00        38\n",
      "           2       1.00      0.97      0.99        39\n",
      "           3       0.97      1.00      0.99        35\n",
      "           4       0.91      0.97      0.94        33\n",
      "           5       1.00      0.97      0.99        37\n",
      "           6       1.00      1.00      1.00        35\n",
      "           7       0.95      0.98      0.96        41\n",
      "           8       1.00      0.97      0.98        29\n",
      "           9       1.00      0.98      0.99        42\n",
      "\n",
      "    accuracy                           0.98       360\n",
      "   macro avg       0.98      0.98      0.98       360\n",
      "weighted avg       0.98      0.98      0.98       360\n",
      "\n"
     ]
    }
   ],
   "source": [
    "print(classification_report(y_test,svcClassifier.predict(x_test)))"
   ]
  },
  {
   "cell_type": "code",
   "execution_count": 15,
   "id": "ca7f7a7e",
   "metadata": {},
   "outputs": [
    {
     "name": "stdout",
     "output_type": "stream",
     "text": [
      "train accuracy score: 99.58246346555325\n",
      "test accuracy score: 98.33333333333333\n"
     ]
    }
   ],
   "source": [
    "train_acc = float(svcClassifier.score(x_train, y_train)*100)\n",
    "print(\"train accuracy score:\", train_acc)\n",
    "\n",
    "test_acc = float(svcClassifier.score(x_test, y_test)*100)\n",
    "print(\"test accuracy score:\", test_acc)"
   ]
  },
  {
   "cell_type": "code",
   "execution_count": 16,
   "id": "00400e9c",
   "metadata": {},
   "outputs": [
    {
     "name": "stdout",
     "output_type": "stream",
     "text": [
      "[[31  0  0  0  0  0  0  0  0  0]\n",
      " [ 0 38  0  0  0  0  0  0  0  0]\n",
      " [ 0  0 38  0  1  0  0  0  0  0]\n",
      " [ 0  0  0 35  0  0  0  0  0  0]\n",
      " [ 0  0  0  0 32  0  0  1  0  0]\n",
      " [ 0  0  0  0  1 36  0  0  0  0]\n",
      " [ 0  0  0  0  0  0 35  0  0  0]\n",
      " [ 0  0  0  0  1  0  0 40  0  0]\n",
      " [ 0  0  0  1  0  0  0  0 28  0]\n",
      " [ 0  0  0  0  0  0  0  1  0 41]]\n"
     ]
    }
   ],
   "source": [
    "cf_matrix = confusion_matrix(y_test,svcClassifier.predict(x_test))\n",
    "print(cf_matrix)"
   ]
  },
  {
   "cell_type": "code",
   "execution_count": 17,
   "id": "f4078044",
   "metadata": {},
   "outputs": [
    {
     "data": {
      "image/png": "[encoded data removed]",
      "text/plain": [
       "<Figure size 504x504 with 2 Axes>"
      ]
     },
     "metadata": {},
     "output_type": "display_data"
    }
   ],
   "source": [
    "fig = plt.figure(figsize=(7,7), facecolor=\"white\")\n",
    "cf_matrix = confusion_matrix(y_test,svcClassifier.predict(x_test))\n",
    "sns.heatmap(cf_matrix, annot=True)\n",
    "plt.show()"
   ]
  },
  {
   "cell_type": "code",
   "execution_count": null,
   "id": "92669c42",
   "metadata": {},
   "outputs": [],
   "source": []
  }
 ],
 "metadata": {
  "kernelspec": {
   "display_name": "Python 3 (ipykernel)",
   "language": "python",
   "name": "python3"
  },
  "language_info": {
   "codemirror_mode": {
    "name": "ipython",
    "version": 3
   },
   "file_extension": ".py",
   "mimetype": "text/x-python",
   "name": "python",
   "nbconvert_exporter": "python",
   "pygments_lexer": "ipython3",
   "version": "3.8.9"
  }
 },
 "nbformat": 4,
 "nbformat_minor": 5
}
