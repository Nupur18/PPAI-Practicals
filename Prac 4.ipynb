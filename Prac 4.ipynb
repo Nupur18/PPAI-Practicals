{
 "cells": [
  {
   "cell_type": "code",
   "execution_count": 1,
   "metadata": {
    "colab": {
     "base_uri": "https://localhost:8080/"
    },
    "id": "uo2IC3ezQin6",
    "outputId": "a0f77b69-10c9-48c5-a426-c9f9c8716371"
   },
   "outputs": [],
   "source": [
    "import pandas as pd\n",
    "import numpy as np\n",
    "import matplotlib.pyplot as plt"
   ]
  },
  {
   "cell_type": "code",
   "execution_count": 2,
   "metadata": {
    "id": "ISm14yXQQ5Aa"
   },
   "outputs": [],
   "source": [
    "data = pd.read_excel(\"K Means Clustering.xlsx\")"
   ]
  },
  {
   "cell_type": "code",
   "execution_count": 3,
   "metadata": {
    "colab": {
     "base_uri": "https://localhost:8080/",
     "height": 739
    },
    "id": "PmIgw-OfRlFv",
    "outputId": "6c5f329e-acd6-4b2e-e5db-183ffe731c08"
   },
   "outputs": [
    {
     "data": {
      "text/html": [
       "<div>\n",
       "<style scoped>\n",
       "    .dataframe tbody tr th:only-of-type {\n",
       "        vertical-align: middle;\n",
       "    }\n",
       "\n",
       "    .dataframe tbody tr th {\n",
       "        vertical-align: top;\n",
       "    }\n",
       "\n",
       "    .dataframe thead th {\n",
       "        text-align: right;\n",
       "    }\n",
       "</style>\n",
       "<table border=\"1\" class=\"dataframe\">\n",
       "  <thead>\n",
       "    <tr style=\"text-align: right;\">\n",
       "      <th></th>\n",
       "      <th>Name</th>\n",
       "      <th>Age</th>\n",
       "      <th>Income</th>\n",
       "    </tr>\n",
       "  </thead>\n",
       "  <tbody>\n",
       "    <tr>\n",
       "      <th>0</th>\n",
       "      <td>N1</td>\n",
       "      <td>27</td>\n",
       "      <td>105000</td>\n",
       "    </tr>\n",
       "    <tr>\n",
       "      <th>1</th>\n",
       "      <td>N2</td>\n",
       "      <td>29</td>\n",
       "      <td>135000</td>\n",
       "    </tr>\n",
       "    <tr>\n",
       "      <th>2</th>\n",
       "      <td>N3</td>\n",
       "      <td>29</td>\n",
       "      <td>91500</td>\n",
       "    </tr>\n",
       "    <tr>\n",
       "      <th>3</th>\n",
       "      <td>N4</td>\n",
       "      <td>28</td>\n",
       "      <td>90000</td>\n",
       "    </tr>\n",
       "    <tr>\n",
       "      <th>4</th>\n",
       "      <td>N5</td>\n",
       "      <td>42</td>\n",
       "      <td>225000</td>\n",
       "    </tr>\n",
       "  </tbody>\n",
       "</table>\n",
       "</div>"
      ],
      "text/plain": [
       "  Name  Age  Income\n",
       "0   N1   27  105000\n",
       "1   N2   29  135000\n",
       "2   N3   29   91500\n",
       "3   N4   28   90000\n",
       "4   N5   42  225000"
      ]
     },
     "execution_count": 3,
     "metadata": {},
     "output_type": "execute_result"
    }
   ],
   "source": [
    "data.head()"
   ]
  },
  {
   "cell_type": "code",
   "execution_count": 4,
   "metadata": {
    "colab": {
     "base_uri": "https://localhost:8080/",
     "height": 348
    },
    "id": "t1FMaWAdSyeA",
    "outputId": "2577a71f-7edd-40de-9f8d-de62262546f3"
   },
   "outputs": [
    {
     "data": {
      "image/png": "[encoded data removed]",
      "text/plain": [
       "<Figure size 576x396 with 1 Axes>"
      ]
     },
     "metadata": {},
     "output_type": "display_data"
    }
   ],
   "source": [
    "plt.style.use(\"seaborn\")\n",
    "plt.figure(0)\n",
    "\n",
    "plt.scatter(data['Age'],data['Income'])  \n",
    "plt.show()"
   ]
  },
  {
   "cell_type": "code",
   "execution_count": 5,
   "metadata": {
    "colab": {
     "base_uri": "https://localhost:8080/"
    },
    "id": "AbvTs6ncTmnl",
    "outputId": "c8a24f76-340d-4b22-b4f8-e86e01af4dd1"
   },
   "outputs": [
    {
     "name": "stdout",
     "output_type": "stream",
     "text": [
      "(22, 2)\n"
     ]
    }
   ],
   "source": [
    " X1 = data[\"Age\"].values\n",
    " X2 = data[\"Income\"].values\n",
    "\n",
    " X1 = (X1-np.mean(X1))/np.std(X1)\n",
    " X2 = (X2-np.mean(X2))/np.std(X2)\n",
    "\n",
    " X = np.column_stack((X1,X2))\n",
    " print(X.shape)"
   ]
  },
  {
   "cell_type": "code",
   "execution_count": 6,
   "metadata": {
    "colab": {
     "base_uri": "https://localhost:8080/",
     "height": 347
    },
    "id": "bM_y9XZ2YoHF",
    "outputId": "d42d3b26-4e2e-4ebd-bbc1-a6f0eb31fae0"
   },
   "outputs": [
    {
     "data": {
      "image/png": "[encoded data removed]",
      "text/plain": [
       "<Figure size 576x396 with 1 Axes>"
      ]
     },
     "metadata": {},
     "output_type": "display_data"
    }
   ],
   "source": [
    "plt.figure(0)\n",
    "\n",
    "plt.scatter(X1,X2)  \n",
    "plt.show()"
   ]
  },
  {
   "cell_type": "markdown",
   "metadata": {
    "id": "bok0fnF71EqB"
   },
   "source": [
    "## **K Means Clustering Algorithm**"
   ]
  },
  {
   "cell_type": "markdown",
   "metadata": {
    "id": "v7Un4FlD1NpC"
   },
   "source": [
    "### 1. Random Initialisation"
   ]
  },
  {
   "cell_type": "code",
   "execution_count": 7,
   "metadata": {
    "id": "OoCiHV1hTL5a"
   },
   "outputs": [],
   "source": [
    "k = 3                                                      # specifying how many clusters we want to have\n",
    "colour = [\"green\",\"red\",\"purple\"]                          # specifying colour for each of the cluster\n",
    "clusters = {}                                              # dictionary of all the clusters\n",
    "\n",
    "for i in range(k):\n",
    "    \n",
    "    # initialising one random center for each cluster in the range (-1.5,1.5)\n",
    "    center = 1.5*(2*np.random.random((X.shape[1],))-1)    # generating one data point having 2 features\n",
    "\n",
    "    # we also need an assignment list (so with each cluster center, we associate a list)\n",
    "    points = []                            # contains points assigned to / associated with that cluster\n",
    "    \n",
    "    # for every cluster we create one dictionary (this is the ith cluster)\n",
    "    cluster = {\n",
    "        'center': center,\n",
    "        'points': points,\n",
    "        'colour': colour[i]\n",
    "    }\n",
    "    clusters[i] = cluster"
   ]
  },
  {
   "cell_type": "code",
   "execution_count": 8,
   "metadata": {
    "colab": {
     "base_uri": "https://localhost:8080/"
    },
    "id": "oRihT6HYThUZ",
    "outputId": "e8a4f8b9-c5ed-4638-a28f-7ccc7a5d6072"
   },
   "outputs": [
    {
     "data": {
      "text/plain": [
       "{0: {'center': array([ 0.49841014, -1.34623009]),\n",
       "  'points': [],\n",
       "  'colour': 'green'},\n",
       " 1: {'center': array([0.76164261, 1.01725974]), 'points': [], 'colour': 'red'},\n",
       " 2: {'center': array([-1.4920082 ,  0.66873958]),\n",
       "  'points': [],\n",
       "  'colour': 'purple'}}"
      ]
     },
     "execution_count": 8,
     "metadata": {},
     "output_type": "execute_result"
    }
   ],
   "source": [
    "clusters"
   ]
  },
  {
   "cell_type": "markdown",
   "metadata": {
    "id": "LflU2qTX1XHB"
   },
   "source": [
    "### 2. Implementing E Step"
   ]
  },
  {
   "cell_type": "code",
   "execution_count": 9,
   "metadata": {
    "id": "fMhZbHu7V9m2"
   },
   "outputs": [],
   "source": [
    "# helper function to compute distance between 2 vectors or points (we use euclidean distance)\n",
    "\n",
    "def distance(v1,v2):\n",
    "    return np.sqrt(np.sum((v1-v2)**2))"
   ]
  },
  {
   "cell_type": "code",
   "execution_count": 10,
   "metadata": {
    "id": "Dd4hq0D5WlKT"
   },
   "outputs": [],
   "source": [
    "def assignPointToClusters(clusters):\n",
    "    \n",
    "    # iterating over all the training data points\n",
    "    for ix in range(X.shape[0]):\n",
    "        dist = []\n",
    "        curr_x = X[ix]        # current data point\n",
    "\n",
    "        # computing the distance of current data point from the center of the kth cluster\n",
    "        for kx in range(k):\n",
    "            d = distance(curr_x, clusters[kx]['center'])\n",
    "            dist.append(d)\n",
    "\n",
    "        # choosing the cluster which has the minimum distance\n",
    "        current_cluster = np.argmin(dist)\n",
    "\n",
    "        clusters[current_cluster]['points'].append(curr_x)\n",
    "    \n",
    "    return "
   ]
  },
  {
   "cell_type": "code",
   "execution_count": 11,
   "metadata": {
    "id": "bIa9aGVwXEVg"
   },
   "outputs": [],
   "source": [
    "assignPointToClusters(clusters)"
   ]
  },
  {
   "cell_type": "code",
   "execution_count": 12,
   "metadata": {
    "colab": {
     "base_uri": "https://localhost:8080/"
    },
    "id": "uAG6m9mlXbxM",
    "outputId": "544d1bee-4c91-4e47-ee18-05d8e583b1a1"
   },
   "outputs": [
    {
     "data": {
      "text/plain": [
       "{0: {'center': array([ 0.49841014, -1.34623009]),\n",
       "  'points': [array([-1.00915747, -0.9629726 ]),\n",
       "   array([-0.48881065, -0.88063069]),\n",
       "   array([ 0.89878087, -0.59831557]),\n",
       "   array([ 1.07222982, -0.64536809]),\n",
       "   array([ 1.4191277 , -0.62184183]),\n",
       "   array([ 0.72533193, -0.24542167]),\n",
       "   array([ 0.72533193, -0.76299939])],\n",
       "  'colour': 'green'},\n",
       " 1: {'center': array([0.76164261, 1.01725974]),\n",
       "  'points': [array([1.24567876, 1.40141653]),\n",
       "   array([0.72533193, 1.51904783]),\n",
       "   array([1.07222982, 1.63667914]),\n",
       "   array([0.55188299, 1.68373166]),\n",
       "   array([0.20498511, 1.54257409]),\n",
       "   array([0.03153617, 0.93089133]),\n",
       "   array([0.37843405, 1.09557515]),\n",
       "   array([ 1.07222982, -0.19836915])],\n",
       "  'colour': 'red'},\n",
       " 2: {'center': array([-1.4920082 ,  0.66873958]),\n",
       "  'points': [array([-1.35605536, -0.48068427]),\n",
       "   array([-1.00915747, -0.01015907]),\n",
       "   array([-1.00915747, -0.69242061]),\n",
       "   array([-1.18260641, -0.71594687]),\n",
       "   array([-1.5295043 , -1.06884077]),\n",
       "   array([-1.35605536, -0.99826199]),\n",
       "   array([-1.18260641, -0.92768321])],\n",
       "  'colour': 'purple'}}"
      ]
     },
     "execution_count": 12,
     "metadata": {},
     "output_type": "execute_result"
    }
   ],
   "source": [
    "clusters"
   ]
  },
  {
   "cell_type": "code",
   "execution_count": 13,
   "metadata": {
    "id": "F22QpIRBXdpl"
   },
   "outputs": [],
   "source": [
    "# function to see if we are able to plot the cluster centers and the points associated with them\n",
    "\n",
    "def plotCluster(clusters):\n",
    "    # iterate over every cluster\n",
    "    for kx in range(k):\n",
    "\n",
    "        # converting the list to numpy array so that we can give it to matplotlib function\n",
    "        pts = np.array(clusters[kx]['points'])\n",
    "\n",
    "        # PLOTTING THE POINTS\n",
    "        try:\n",
    "            plt.scatter(pts[:,0],pts[:,1],color=clusters[kx]['colour'])\n",
    "        except:\n",
    "            pass\n",
    "        \n",
    "        # PLOTTING THE CLUSTER CENTERS\n",
    "        uk = clusters[kx]['center']\n",
    "        plt.scatter(uk[0],uk[1],color='black',marker='*')"
   ]
  },
  {
   "cell_type": "code",
   "execution_count": 14,
   "metadata": {
    "colab": {
     "base_uri": "https://localhost:8080/",
     "height": 347
    },
    "id": "8BatPoBpXr-k",
    "outputId": "43d0cfcb-8243-4490-8de5-75549cedabce"
   },
   "outputs": [
    {
     "data": {
      "image/png": "[encoded data removed]",
      "text/plain": [
       "<Figure size 576x396 with 1 Axes>"
      ]
     },
     "metadata": {},
     "output_type": "display_data"
    }
   ],
   "source": [
    "plotCluster(clusters)"
   ]
  },
  {
   "cell_type": "markdown",
   "metadata": {
    "id": "wvFmwQbc1fDi"
   },
   "source": [
    "### 3. Implementing M Step"
   ]
  },
  {
   "cell_type": "code",
   "execution_count": 15,
   "metadata": {
    "id": "nRV6MM9QYD8O"
   },
   "outputs": [],
   "source": [
    "def updateClusters(clusters):\n",
    "    for kx in range(k):\n",
    "        pts = np.array(clusters[kx]['points'])\n",
    "        \n",
    "        # if a cluster has non-zero points, we will take the mean and update that cluster\n",
    "        if pts.shape[0]>0:\n",
    "            new_uk = pts.mean(axis=0)          # new cluster center\n",
    "            clusters[kx]['center'] = new_uk    # updating the center\n",
    "        \n",
    "            # emptying the list of points of that cluster as will repeat E-Step to get the points\n",
    "            clusters[kx]['points'] = []"
   ]
  },
  {
   "cell_type": "markdown",
   "metadata": {
    "id": "u47NUeqy2_fk"
   },
   "source": [
    "### 4. Repeating E and M steps again and again until there is no change in the value of cluster centers"
   ]
  },
  {
   "cell_type": "code",
   "execution_count": 16,
   "metadata": {
    "colab": {
     "base_uri": "https://localhost:8080/",
     "height": 347
    },
    "id": "PJoNkPjiaA32",
    "outputId": "92f30867-d0eb-4230-f9a6-3e6721d58e13"
   },
   "outputs": [
    {
     "data": {
      "image/png": "[encoded data removed]",
      "text/plain": [
       "<Figure size 576x396 with 1 Axes>"
      ]
     },
     "metadata": {},
     "output_type": "display_data"
    }
   ],
   "source": [
    "while(1):\n",
    "  cnt = 0\n",
    "  prev_center = []\n",
    "\n",
    "  for ix in range(k):\n",
    "    prev_center.append(clusters[ix]['center'])\n",
    "\n",
    "  assignPointToClusters(clusters)\n",
    "  updateClusters(clusters)\n",
    "  \n",
    "  for ix in range(k):\n",
    "    if(all(prev_center[ix]==clusters[ix]['center'])):\n",
    "      cnt+=1\n",
    "  \n",
    "  if(cnt==k):\n",
    "    break\n",
    "\n",
    "assignPointToClusters(clusters)\n",
    "plotCluster(clusters)"
   ]
  },
  {
   "cell_type": "code",
   "execution_count": null,
   "metadata": {},
   "outputs": [],
   "source": []
  }
 ],
 "metadata": {
  "accelerator": "GPU",
  "colab": {
   "collapsed_sections": [],
   "provenance": []
  },
  "kernelspec": {
   "display_name": "Python 3 (ipykernel)",
   "language": "python",
   "name": "python3"
  },
  "language_info": {
   "codemirror_mode": {
    "name": "ipython",
    "version": 3
   },
   "file_extension": ".py",
   "mimetype": "text/x-python",
   "name": "python",
   "nbconvert_exporter": "python",
   "pygments_lexer": "ipython3",
   "version": "3.8.9"
  }
 },
 "nbformat": 4,
 "nbformat_minor": 1
}
